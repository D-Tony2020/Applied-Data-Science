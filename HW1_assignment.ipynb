{
 "cells": [
  {
   "attachments": {},
   "cell_type": "markdown",
   "metadata": {},
   "source": [
    "# ORIE 5355/INFO 5370 HW 1: Survey Weighting"
   ]
  },
  {
   "attachments": {},
   "cell_type": "markdown",
   "metadata": {},
   "source": [
    " - Name: Dean Xu\n",
    " - Net-id: hx332\n",
    " - Date: 2025/9/16\n",
    " - Late days used for this assignment: 0\n",
    " - Total late days used (counting this assignment): 0\n",
    " - People with whom you discussed this assignment: /"
   ]
  },
  {
   "attachments": {},
   "cell_type": "markdown",
   "metadata": {
    "ExecuteTime": {
     "end_time": "2021-09-01T19:23:05.646804Z",
     "start_time": "2021-09-01T19:23:05.610804Z"
    }
   },
   "source": [
    "After you finish the homework, please complete the following (short, anonymous) post-homework survey: https://forms.gle/CdpUFN582d15kZSH9"
   ]
  },
  {
   "attachments": {},
   "cell_type": "markdown",
   "metadata": {},
   "source": [
    "\n",
    "We have marked questions in <font color='green'> green </font>. Please put answers in the default color. You'll want to write text answers in \"markdown\" mode instead of code. In Jupyter notebook, you can go to Cell > Cell Type > Markdown, from the menu. Please carefully read the late days policy and grading procedure [here](https://orie5355.github.io/Fall_2025/assignments/). In that link, we also give some tips on exporting your notebook to PDF, which is required for GradeScope submission. \n",
    "\n",
    "A few notes about this homework:\n",
    "1. This homework is purposefully heavy in using the Pandas package. Being able to explore data is an essential data science skill that you'll use throughout this class and your career -- even if the polling/politics application is not interesting to you. I encourage you to practice Pandas and learn how to use it well. Your code will NOT be graded on efficiency.\n",
    "2. Some of the questions can be interpreted in multiple ways. That is always true in data science. You'll need to make judgment calls for what analysis to do. For the homework, you'll still receive full points for any \"reasonable\" choice. Also feel free to ask questions on EdStem. \n",
    "\n",
    "Note: We sometimes provide sample images of what your output should look like. These are for clarification of what we are looking for. The numbers in the images are not necessarily correct, and your output does not need to look exactly like the images."
   ]
  },
  {
   "attachments": {},
   "cell_type": "markdown",
   "metadata": {},
   "source": [
    "# Conceptual component"
   ]
  },
  {
   "attachments": {},
   "cell_type": "markdown",
   "metadata": {},
   "source": [
    "### 1) Reading"
   ]
  },
  {
   "attachments": {},
   "cell_type": "markdown",
   "metadata": {},
   "source": [
    "<font color='green'> Please read Sections 3 and 4 (pages 6-13) here: https://www.nber.org/system/files/working_papers/w20830/w20830.pdf, and answer the following questions."
   ]
  },
  {
   "attachments": {},
   "cell_type": "markdown",
   "metadata": {},
   "source": [
    "<font color='green'> Please summarize the sections in no more than two sentences. "
   ]
  },
  {
   "cell_type": "code",
   "execution_count": null,
   "metadata": {},
   "outputs": [],
   "source": []
  },
  {
   "attachments": {},
   "cell_type": "markdown",
   "metadata": {},
   "source": [
    "<font color='green'> Do you think it's a problem that most ratings are positive? If so, why? Answer in no more than four sentences. Please incorporate concepts discussed in class in your answer. "
   ]
  },
  {
   "cell_type": "code",
   "execution_count": null,
   "metadata": {},
   "outputs": [],
   "source": []
  },
  {
   "attachments": {},
   "cell_type": "markdown",
   "metadata": {},
   "source": [
    "### 2) Personal reflection"
   ]
  },
  {
   "attachments": {},
   "cell_type": "markdown",
   "metadata": {},
   "source": [
    "<font color='green'> Think back to a time that you trained a model on data from people or gathered opinions via a survey (an informal one is fine). If you have not done that before, you may answer these questions about an article in the news that reported on public opinions or a model that you think might be in deployment at a company or organization with which you interact (for example, Amazon, google maps, etc)"
   ]
  },
  {
   "attachments": {},
   "cell_type": "markdown",
   "metadata": {},
   "source": [
    "<font color='green'> Briefly summarize the scenario in no more than two sentences. "
   ]
  },
  {
   "cell_type": "code",
   "execution_count": null,
   "metadata": {},
   "outputs": [],
   "source": []
  },
  {
   "attachments": {},
   "cell_type": "markdown",
   "metadata": {},
   "source": [
    "<font color='green'> What was the construct that you cared about/wanted to measure? What was the measurement (numerical data)? In what ways did the measurement not match the construct you cared about? Answer in no more than 4 sentences.  "
   ]
  },
  {
   "cell_type": "code",
   "execution_count": null,
   "metadata": {},
   "outputs": [],
   "source": []
  },
  {
   "attachments": {},
   "cell_type": "markdown",
   "metadata": {},
   "source": [
    "<font color='green'> What selection biases/differential non-response issues occurred and how did it affect your measurement? (If your answer is \"None,\" explain exactly why you believe the assumptions discussed in class were met). Answer in no more than 3 sentences. "
   ]
  },
  {
   "cell_type": "code",
   "execution_count": null,
   "metadata": {},
   "outputs": [],
   "source": []
  },
  {
   "attachments": {},
   "cell_type": "markdown",
   "metadata": {},
   "source": [
    "<font color='green'> Given what we have learned in class so far, what would you do differently if faced with the same scenario again? Answer in no more than 3 sentences. "
   ]
  },
  {
   "cell_type": "code",
   "execution_count": null,
   "metadata": {},
   "outputs": [],
   "source": []
  },
  {
   "attachments": {},
   "cell_type": "markdown",
   "metadata": {},
   "source": [
    "# Programming component"
   ]
  },
  {
   "attachments": {},
   "cell_type": "markdown",
   "metadata": {},
   "source": [
    "<font color='green'> In this part of the homework, we provide you with data from a poll in Florida before the 2016 Presidential election in the United States. We also provide you with (one pollster's) estimates of who will vote in the 2016 election, made before the election. You will use this data and apply the weighting techniques covered in class."
   ]
  },
  {
   "attachments": {},
   "cell_type": "markdown",
   "metadata": {},
   "source": [
    "## Preliminaries to load packages and data"
   ]
  },
  {
   "cell_type": "code",
   "execution_count": 1,
   "metadata": {
    "ExecuteTime": {
     "end_time": "2021-09-01T20:57:32.311779Z",
     "start_time": "2021-09-01T20:57:32.270775Z"
    }
   },
   "outputs": [],
   "source": [
    "import pandas as pd\n",
    "import numpy as np"
   ]
  },
  {
   "cell_type": "code",
   "execution_count": 2,
   "metadata": {
    "ExecuteTime": {
     "end_time": "2021-09-01T20:57:32.581776Z",
     "start_time": "2021-09-01T20:57:32.454782Z"
    }
   },
   "outputs": [
    {
     "data": {
      "text/html": [
       "<div>\n",
       "<style scoped>\n",
       "    .dataframe tbody tr th:only-of-type {\n",
       "        vertical-align: middle;\n",
       "    }\n",
       "\n",
       "    .dataframe tbody tr th {\n",
       "        vertical-align: top;\n",
       "    }\n",
       "\n",
       "    .dataframe thead th {\n",
       "        text-align: right;\n",
       "    }\n",
       "</style>\n",
       "<table border=\"1\" class=\"dataframe\">\n",
       "  <thead>\n",
       "    <tr style=\"text-align: right;\">\n",
       "      <th></th>\n",
       "      <th>candidate</th>\n",
       "      <th>age</th>\n",
       "      <th>gender</th>\n",
       "      <th>party</th>\n",
       "      <th>race</th>\n",
       "      <th>education</th>\n",
       "    </tr>\n",
       "  </thead>\n",
       "  <tbody>\n",
       "    <tr>\n",
       "      <th>0</th>\n",
       "      <td>Someone else</td>\n",
       "      <td>30-44</td>\n",
       "      <td>Male</td>\n",
       "      <td>Independent</td>\n",
       "      <td>White</td>\n",
       "      <td>College</td>\n",
       "    </tr>\n",
       "    <tr>\n",
       "      <th>1</th>\n",
       "      <td>Hillary Clinton</td>\n",
       "      <td>45-64</td>\n",
       "      <td>Male</td>\n",
       "      <td>Republican</td>\n",
       "      <td>Hispanic</td>\n",
       "      <td>College</td>\n",
       "    </tr>\n",
       "    <tr>\n",
       "      <th>2</th>\n",
       "      <td>Hillary Clinton</td>\n",
       "      <td>30-44</td>\n",
       "      <td>Male</td>\n",
       "      <td>Independent</td>\n",
       "      <td>Hispanic</td>\n",
       "      <td>College</td>\n",
       "    </tr>\n",
       "    <tr>\n",
       "      <th>3</th>\n",
       "      <td>Hillary Clinton</td>\n",
       "      <td>65+</td>\n",
       "      <td>Female</td>\n",
       "      <td>Democrat</td>\n",
       "      <td>White</td>\n",
       "      <td>College</td>\n",
       "    </tr>\n",
       "    <tr>\n",
       "      <th>4</th>\n",
       "      <td>Donald Trump</td>\n",
       "      <td>65+</td>\n",
       "      <td>Female</td>\n",
       "      <td>Republican</td>\n",
       "      <td>White</td>\n",
       "      <td>High School</td>\n",
       "    </tr>\n",
       "  </tbody>\n",
       "</table>\n",
       "</div>"
      ],
      "text/plain": [
       "         candidate    age  gender        party      race    education\n",
       "0     Someone else  30-44    Male  Independent     White      College\n",
       "1  Hillary Clinton  45-64    Male   Republican  Hispanic      College\n",
       "2  Hillary Clinton  30-44    Male  Independent  Hispanic      College\n",
       "3  Hillary Clinton    65+  Female     Democrat     White      College\n",
       "4     Donald Trump    65+  Female   Republican     White  High School"
      ]
     },
     "execution_count": 2,
     "metadata": {},
     "output_type": "execute_result"
    }
   ],
   "source": [
    "dfpoll = pd.read_csv('polling_data_hw1.csv') # raw polling data\n",
    "dfpoll.head()"
   ]
  },
  {
   "cell_type": "code",
   "execution_count": 3,
   "metadata": {
    "ExecuteTime": {
     "end_time": "2021-09-01T20:57:32.658773Z",
     "start_time": "2021-09-01T20:57:32.605777Z"
    }
   },
   "outputs": [
    {
     "data": {
      "text/html": [
       "<div>\n",
       "<style scoped>\n",
       "    .dataframe tbody tr th:only-of-type {\n",
       "        vertical-align: middle;\n",
       "    }\n",
       "\n",
       "    .dataframe tbody tr th {\n",
       "        vertical-align: top;\n",
       "    }\n",
       "\n",
       "    .dataframe thead th {\n",
       "        text-align: right;\n",
       "    }\n",
       "</style>\n",
       "<table border=\"1\" class=\"dataframe\">\n",
       "  <thead>\n",
       "    <tr style=\"text-align: right;\">\n",
       "      <th></th>\n",
       "      <th>Electoral_Proportion</th>\n",
       "      <th>Demographic_Type_1</th>\n",
       "      <th>Demographic_Type_2</th>\n",
       "      <th>Demographic_1</th>\n",
       "      <th>Demographic_2</th>\n",
       "    </tr>\n",
       "  </thead>\n",
       "  <tbody>\n",
       "    <tr>\n",
       "      <th>0</th>\n",
       "      <td>0.388</td>\n",
       "      <td>party</td>\n",
       "      <td>NaN</td>\n",
       "      <td>Democrat</td>\n",
       "      <td>NaN</td>\n",
       "    </tr>\n",
       "    <tr>\n",
       "      <th>1</th>\n",
       "      <td>0.399</td>\n",
       "      <td>party</td>\n",
       "      <td>NaN</td>\n",
       "      <td>Republican</td>\n",
       "      <td>NaN</td>\n",
       "    </tr>\n",
       "    <tr>\n",
       "      <th>2</th>\n",
       "      <td>0.213</td>\n",
       "      <td>party</td>\n",
       "      <td>NaN</td>\n",
       "      <td>Independent</td>\n",
       "      <td>NaN</td>\n",
       "    </tr>\n",
       "    <tr>\n",
       "      <th>3</th>\n",
       "      <td>0.446</td>\n",
       "      <td>gender</td>\n",
       "      <td>NaN</td>\n",
       "      <td>Male</td>\n",
       "      <td>NaN</td>\n",
       "    </tr>\n",
       "    <tr>\n",
       "      <th>4</th>\n",
       "      <td>0.554</td>\n",
       "      <td>gender</td>\n",
       "      <td>NaN</td>\n",
       "      <td>Female</td>\n",
       "      <td>NaN</td>\n",
       "    </tr>\n",
       "  </tbody>\n",
       "</table>\n",
       "</div>"
      ],
      "text/plain": [
       "   Electoral_Proportion Demographic_Type_1 Demographic_Type_2 Demographic_1  \\\n",
       "0                 0.388              party                NaN      Democrat   \n",
       "1                 0.399              party                NaN    Republican   \n",
       "2                 0.213              party                NaN   Independent   \n",
       "3                 0.446             gender                NaN          Male   \n",
       "4                 0.554             gender                NaN        Female   \n",
       "\n",
       "  Demographic_2  \n",
       "0           NaN  \n",
       "1           NaN  \n",
       "2           NaN  \n",
       "3           NaN  \n",
       "4           NaN  "
      ]
     },
     "execution_count": 3,
     "metadata": {},
     "output_type": "execute_result"
    }
   ],
   "source": [
    "dfdemographic = pd.read_csv('florida_proportions_hw1.csv') # proportions of population\n",
    "dfdemographic.head()"
   ]
  },
  {
   "cell_type": "code",
   "execution_count": 4,
   "metadata": {},
   "outputs": [
    {
     "data": {
      "text/html": [
       "<div>\n",
       "<style scoped>\n",
       "    .dataframe tbody tr th:only-of-type {\n",
       "        vertical-align: middle;\n",
       "    }\n",
       "\n",
       "    .dataframe tbody tr th {\n",
       "        vertical-align: top;\n",
       "    }\n",
       "\n",
       "    .dataframe thead th {\n",
       "        text-align: right;\n",
       "    }\n",
       "</style>\n",
       "<table border=\"1\" class=\"dataframe\">\n",
       "  <thead>\n",
       "    <tr style=\"text-align: right;\">\n",
       "      <th></th>\n",
       "      <th>Electoral_Proportion</th>\n",
       "      <th>Demographic_Type_1</th>\n",
       "      <th>Demographic_Type_2</th>\n",
       "      <th>Demographic_1</th>\n",
       "      <th>Demographic_2</th>\n",
       "    </tr>\n",
       "  </thead>\n",
       "  <tbody>\n",
       "    <tr>\n",
       "      <th>112</th>\n",
       "      <td>0.034</td>\n",
       "      <td>race</td>\n",
       "      <td>education</td>\n",
       "      <td>Hispanic</td>\n",
       "      <td>Some College</td>\n",
       "    </tr>\n",
       "    <tr>\n",
       "      <th>113</th>\n",
       "      <td>0.028</td>\n",
       "      <td>race</td>\n",
       "      <td>education</td>\n",
       "      <td>Hispanic</td>\n",
       "      <td>College</td>\n",
       "    </tr>\n",
       "    <tr>\n",
       "      <th>114</th>\n",
       "      <td>0.011</td>\n",
       "      <td>race</td>\n",
       "      <td>education</td>\n",
       "      <td>Other</td>\n",
       "      <td>High School</td>\n",
       "    </tr>\n",
       "    <tr>\n",
       "      <th>115</th>\n",
       "      <td>0.011</td>\n",
       "      <td>race</td>\n",
       "      <td>education</td>\n",
       "      <td>Other</td>\n",
       "      <td>Some College</td>\n",
       "    </tr>\n",
       "    <tr>\n",
       "      <th>116</th>\n",
       "      <td>0.015</td>\n",
       "      <td>race</td>\n",
       "      <td>education</td>\n",
       "      <td>Other</td>\n",
       "      <td>College</td>\n",
       "    </tr>\n",
       "  </tbody>\n",
       "</table>\n",
       "</div>"
      ],
      "text/plain": [
       "     Electoral_Proportion Demographic_Type_1 Demographic_Type_2 Demographic_1  \\\n",
       "112                 0.034               race          education      Hispanic   \n",
       "113                 0.028               race          education      Hispanic   \n",
       "114                 0.011               race          education         Other   \n",
       "115                 0.011               race          education         Other   \n",
       "116                 0.015               race          education         Other   \n",
       "\n",
       "    Demographic_2  \n",
       "112  Some College  \n",
       "113       College  \n",
       "114   High School  \n",
       "115  Some College  \n",
       "116       College  "
      ]
     },
     "execution_count": 4,
     "metadata": {},
     "output_type": "execute_result"
    }
   ],
   "source": [
    "dfdemographic.tail()"
   ]
  },
  {
   "attachments": {},
   "cell_type": "markdown",
   "metadata": {},
   "source": [
    "`dfdemographic` contains estimates of likely voters in Florida in 2016. When `Demographic_Type_2` is `NaN`, the row refers to just the marginal population percentage of the group in `Demographic_1` of type `Demographic_Type_1`. When it is not `NaN`, the row has the joint distribution of the corresponding demographic groups.\n",
    "\n",
    "For example, row 0 means that 38.8% of the electorate is from the Democrat party. Row 113 means that 2.8% of the electorate is Hispanic AND graduated college. "
   ]
  },
  {
   "attachments": {},
   "cell_type": "markdown",
   "metadata": {},
   "source": [
    "## Part A: Raw visualization"
   ]
  },
  {
   "attachments": {},
   "cell_type": "markdown",
   "metadata": {},
   "source": [
    "<font color='green'> Here, we'll visualize whether the respondents in the poll match the likely voter estimates. Create a scatter-plot where each point represents one Demographic group (for example, people who identify as Independet: party-Independent), where the X axis is the `Electoral_Proportion` in `dfdemographic`, and the Y axis is the proportion in `dfpoll` (Hint: you will need to calculate this yourself). "
   ]
  },
  {
   "cell_type": "code",
   "execution_count": 8,
   "metadata": {},
   "outputs": [
    {
     "data": {
      "image/png": "[encoded data removed]",
      "text/plain": [
       "<Figure size 1500x1500 with 1 Axes>"
      ]
     },
     "metadata": {},
     "output_type": "display_data"
    },
    {
     "data": {
      "text/html": [
       "<div>\n",
       "<style scoped>\n",
       "    .dataframe tbody tr th:only-of-type {\n",
       "        vertical-align: middle;\n",
       "    }\n",
       "\n",
       "    .dataframe tbody tr th {\n",
       "        vertical-align: top;\n",
       "    }\n",
       "\n",
       "    .dataframe thead th {\n",
       "        text-align: right;\n",
       "    }\n",
       "</style>\n",
       "<table border=\"1\" class=\"dataframe\">\n",
       "  <thead>\n",
       "    <tr style=\"text-align: right;\">\n",
       "      <th></th>\n",
       "      <th>Group</th>\n",
       "      <th>Electoral_Proportion</th>\n",
       "      <th>Sample_Proportion</th>\n",
       "    </tr>\n",
       "  </thead>\n",
       "  <tbody>\n",
       "    <tr>\n",
       "      <th>0</th>\n",
       "      <td>party-Democrat</td>\n",
       "      <td>0.388</td>\n",
       "      <td>0.358708</td>\n",
       "    </tr>\n",
       "    <tr>\n",
       "      <th>1</th>\n",
       "      <td>party-Republican</td>\n",
       "      <td>0.399</td>\n",
       "      <td>0.272203</td>\n",
       "    </tr>\n",
       "    <tr>\n",
       "      <th>2</th>\n",
       "      <td>party-Independent</td>\n",
       "      <td>0.213</td>\n",
       "      <td>0.348328</td>\n",
       "    </tr>\n",
       "    <tr>\n",
       "      <th>3</th>\n",
       "      <td>gender-Male</td>\n",
       "      <td>0.446</td>\n",
       "      <td>0.491349</td>\n",
       "    </tr>\n",
       "    <tr>\n",
       "      <th>4</th>\n",
       "      <td>gender-Female</td>\n",
       "      <td>0.554</td>\n",
       "      <td>0.508651</td>\n",
       "    </tr>\n",
       "    <tr>\n",
       "      <th>5</th>\n",
       "      <td>age-18-29</td>\n",
       "      <td>0.110</td>\n",
       "      <td>0.222607</td>\n",
       "    </tr>\n",
       "    <tr>\n",
       "      <th>6</th>\n",
       "      <td>age-30-44</td>\n",
       "      <td>0.182</td>\n",
       "      <td>0.193772</td>\n",
       "    </tr>\n",
       "    <tr>\n",
       "      <th>7</th>\n",
       "      <td>age-45-64</td>\n",
       "      <td>0.378</td>\n",
       "      <td>0.303345</td>\n",
       "    </tr>\n",
       "    <tr>\n",
       "      <th>8</th>\n",
       "      <td>age-65+</td>\n",
       "      <td>0.330</td>\n",
       "      <td>0.280277</td>\n",
       "    </tr>\n",
       "    <tr>\n",
       "      <th>9</th>\n",
       "      <td>race-White</td>\n",
       "      <td>0.698</td>\n",
       "      <td>0.602076</td>\n",
       "    </tr>\n",
       "    <tr>\n",
       "      <th>10</th>\n",
       "      <td>race-Black</td>\n",
       "      <td>0.136</td>\n",
       "      <td>0.117647</td>\n",
       "    </tr>\n",
       "    <tr>\n",
       "      <th>11</th>\n",
       "      <td>race-Hispanic</td>\n",
       "      <td>0.130</td>\n",
       "      <td>0.202999</td>\n",
       "    </tr>\n",
       "    <tr>\n",
       "      <th>12</th>\n",
       "      <td>race-Other</td>\n",
       "      <td>0.037</td>\n",
       "      <td>0.044983</td>\n",
       "    </tr>\n",
       "    <tr>\n",
       "      <th>13</th>\n",
       "      <td>education-High School</td>\n",
       "      <td>0.374</td>\n",
       "      <td>0.197232</td>\n",
       "    </tr>\n",
       "    <tr>\n",
       "      <th>14</th>\n",
       "      <td>education-Some College</td>\n",
       "      <td>0.299</td>\n",
       "      <td>0.352941</td>\n",
       "    </tr>\n",
       "    <tr>\n",
       "      <th>15</th>\n",
       "      <td>education-College</td>\n",
       "      <td>0.327</td>\n",
       "      <td>0.435986</td>\n",
       "    </tr>\n",
       "  </tbody>\n",
       "</table>\n",
       "</div>"
      ],
      "text/plain": [
       "                     Group  Electoral_Proportion  Sample_Proportion\n",
       "0           party-Democrat                 0.388           0.358708\n",
       "1         party-Republican                 0.399           0.272203\n",
       "2        party-Independent                 0.213           0.348328\n",
       "3              gender-Male                 0.446           0.491349\n",
       "4            gender-Female                 0.554           0.508651\n",
       "5                age-18-29                 0.110           0.222607\n",
       "6                age-30-44                 0.182           0.193772\n",
       "7                age-45-64                 0.378           0.303345\n",
       "8                  age-65+                 0.330           0.280277\n",
       "9               race-White                 0.698           0.602076\n",
       "10              race-Black                 0.136           0.117647\n",
       "11           race-Hispanic                 0.130           0.202999\n",
       "12              race-Other                 0.037           0.044983\n",
       "13   education-High School                 0.374           0.197232\n",
       "14  education-Some College                 0.299           0.352941\n",
       "15       education-College                 0.327           0.435986"
      ]
     },
     "execution_count": 8,
     "metadata": {},
     "output_type": "execute_result"
    }
   ],
   "source": [
    "import matplotlib.pyplot as plt\n",
    "\n",
    "dfpre_marginal = dfdemographic[dfdemographic['Demographic_Type_2'].isna()]\n",
    "\n",
    "\n",
    "sample_props = {}\n",
    "\n",
    "for demo_type in dfpre_marginal['Demographic_Type_1'].unique():\n",
    "    \n",
    "    counts = dfpoll[demo_type].value_counts(normalize=True)\n",
    "    \n",
    "    temp = counts.reset_index()\n",
    "    temp.columns = ['Demographic_1', 'Sample_Proportion']\n",
    "    temp['Demographic_Type_1'] = demo_type\n",
    "    sample_props[demo_type] = temp\n",
    "\n",
    "\n",
    "df_sample_props = pd.concat(sample_props.values(), ignore_index=True)\n",
    "\n",
    "\n",
    "df_compare = dfpre_marginal.merge(\n",
    "    df_sample_props,\n",
    "    on=['Demographic_Type_1', 'Demographic_1'],\n",
    "    how='left'\n",
    ")\n",
    "\n",
    "\n",
    "df_compare['Group'] = df_compare['Demographic_Type_1'] + '-' + df_compare['Demographic_1']\n",
    "\n",
    "plt.figure(figsize=(15,15))\n",
    "plt.scatter(df_compare['Electoral_Proportion'], df_compare['Sample_Proportion'], alpha=1)\n",
    "\n",
    "plt.plot([0,1],[0,1], color='red', linestyle='--')\n",
    "\n",
    "for i, row in df_compare.iterrows():\n",
    "    plt.text(row['Electoral_Proportion']+0.005, row['Sample_Proportion'], row['Group'], fontsize=15)\n",
    "\n",
    "plt.title('Comparison of Poll Sample vs Population Proportions')\n",
    "plt.xlabel('Population Proportion (dfpre)')\n",
    "plt.ylabel('Sample Proportion (dfpoll)')\n",
    "\n",
    "plt.show()\n",
    "\n",
    "df_compare[['Group','Electoral_Proportion','Sample_Proportion']]\n"
   ]
  },
  {
   "attachments": {},
   "cell_type": "markdown",
   "metadata": {},
   "source": [
    "<font color='green'> `dfdemographic` tells us the true proportion of each demographic group in the entire population, the calculated proportion from dfpoll tells us the proportion of each demographic group represented in the poll. For a poll to be representative of the population, ideally we would want the latter to be the same as the former. However, this is hard to achieve in practice.\n",
    "\n",
    "\n",
    "In your view, which group is most over-represented? Most under-represented? Why? Answer in no more than 3 sentences. There are multiple reasonable definitions of \"over\" or \"under\" represented; any choice is fine as long as you justify your answer.</font>"
   ]
  },
  {
   "cell_type": "code",
   "execution_count": null,
   "metadata": {},
   "outputs": [],
   "source": []
  },
  {
   "attachments": {},
   "cell_type": "markdown",
   "metadata": {},
   "source": [
    "## Part B: Weighting"
   ]
  },
  {
   "attachments": {},
   "cell_type": "markdown",
   "metadata": {},
   "source": [
    "<font color='green'> For this question, we'll ignore people who answered anything but \"Hillary Clinton\" or \"Donald Trump.\"\n",
    "\n",
    "\n",
    "You'll notice that some of the groups in the polling data (\"refused\") do not show up in the population percentages. For the questions that require weighting by demographics, ignore those respondents.\n",
    "\n"
   ]
  },
  {
   "attachments": {},
   "cell_type": "markdown",
   "metadata": {},
   "source": [
    "### 1) Raw average"
   ]
  },
  {
   "attachments": {},
   "cell_type": "markdown",
   "metadata": {},
   "source": [
    "<font color='green'> Below, report the \"raw polling average,\" the percentage of people \"Hillary Clinton\" divided by the number who answered either Hillary or Trump."
   ]
  },
  {
   "cell_type": "code",
   "execution_count": 11,
   "metadata": {},
   "outputs": [
    {
     "name": "stdout",
     "output_type": "stream",
     "text": [
      "Raw average - Clinton support: 0.5458333333333334\n",
      "Raw average - Trump support: 0.45416666666666666\n"
     ]
    }
   ],
   "source": [
    "df = dfpoll[dfpoll['candidate'].isin([\"Hillary Clinton\", \"Donald Trump\"])]\n",
    "\n",
    "raw_avg = (df[\"candidate\"] == \"Donald Trump\").mean()\n",
    "\n",
    "print(\"Raw average - Clinton support:\", 1 - raw_avg)\n",
    "print(\"Raw average - Trump support:\", raw_avg)"
   ]
  },
  {
   "attachments": {},
   "cell_type": "markdown",
   "metadata": {},
   "source": [
    "### 2) Single dimensional marginal weighting (on just 1 demographic type)"
   ]
  },
  {
   "attachments": {},
   "cell_type": "markdown",
   "metadata": {},
   "source": [
    "<font color='green'> For each demographic type separately -- age, gender, party, race, and education -- weight the poll by just that demographic type, in accordance to the population proportions given. Report the resulting poll results, and briefly (at most 3 sentences) describe what you observe.\n",
    "\n",
    "\n",
    "For example, when weighted by race, you'll report:\n",
    "\n",
    "Weighted by race --- Clinton: 0.531, Trump: 0.469\n",
    "\n",
    "(your results might be different due to rounding/precision, but we do not expect the difference to be large)\n"
   ]
  },
  {
   "cell_type": "code",
   "execution_count": 12,
   "metadata": {},
   "outputs": [
    {
     "name": "stdout",
     "output_type": "stream",
     "text": [
      "Weighted by age --- Clinton=0.531, Trump=0.469\n",
      "Weighted by gender --- Clinton=0.550, Trump=0.450\n",
      "Weighted by party --- Clinton=0.499, Trump=0.501\n",
      "Weighted by race --- Clinton=0.531, Trump=0.469\n",
      "Weighted by education --- Clinton=0.544, Trump=0.456\n"
     ]
    }
   ],
   "source": [
    "import pandas as pd\n",
    "\n",
    "def weighted_poll_by_demo(df, dfdemographic, demo_type):\n",
    "    \"\"\"\n",
    "    Weighted by a single demographic characteristic (demo_type).\n",
    "    \"\"\" \n",
    "    # === Step 1: Population Proportion ===\n",
    "    pop_demo = dfdemographic[\n",
    "        (dfdemographic[\"Demographic_Type_1\"] == demo_type) &\n",
    "        (dfdemographic[\"Demographic_Type_2\"].isna())\n",
    "    ][[\"Demographic_1\", \"Electoral_Proportion\"]]\n",
    "    \n",
    "    pop_dict = pop_demo.set_index(\"Demographic_1\")[\"Electoral_Proportion\"].to_dict()\n",
    "    \n",
    "    # === Step 2: Sample Proportion ===\n",
    "    sample_dict = df[demo_type].value_counts(normalize=True).to_dict()\n",
    "    \n",
    "    # === Step 3: Caculate Weights ===\n",
    "    weights = {k: pop_dict[k] / sample_dict[k] \n",
    "               for k in pop_dict.keys() if k in sample_dict}\n",
    "    \n",
    "    # === Step 4: Assign weight ===\n",
    "    df[\"weight\"] = df[demo_type].map(weights)\n",
    "    \n",
    "    # === Step 5: Caculate weighted support rates ===\n",
    "    df[\"is_clinton\"] = (df[\"candidate\"] == \"Hillary Clinton\").astype(int)\n",
    "    \n",
    "    p_clinton = (df[\"is_clinton\"] * df[\"weight\"]).sum() / df[\"weight\"].sum()\n",
    "    p_trump = 1 - p_clinton\n",
    "    \n",
    "    return p_clinton, p_trump\n",
    "\n",
    "\n",
    "# Caculate weighted support rates for all marginal dimensions\n",
    "for demo in [\"age\", \"gender\", \"party\", \"race\", \"education\"]:\n",
    "    p_clinton, p_trump = weighted_poll_by_demo(df.copy(), dfdemographic, demo)\n",
    "    print(f\"Weighted by {demo} --- Clinton={p_clinton:.3f}, Trump={p_trump:.3f}\")\n"
   ]
  },
  {
   "cell_type": "markdown",
   "metadata": {},
   "source": [
    "The results show that weighting different demographic characteristics significantly alters the estimates. When weighted by party affiliation, Clinton and Trump's support is almost identical (0.499 vs. 0.501), while when weighted by gender or education, Clinton's support rate is slightly higher. Overall, this suggests that the sample differs most from the population in partisan composition, while biases in gender and education also have a certain impact on the results."
   ]
  },
  {
   "attachments": {},
   "cell_type": "markdown",
   "metadata": {},
   "source": [
    "### 2-dimensional joint distribution weighting"
   ]
  },
  {
   "attachments": {},
   "cell_type": "markdown",
   "metadata": {},
   "source": [
    "<font color='green'>Now, for each pair of demographic types in dfdemographic, do the same -- weight the poll by that pair of demographic types, in accordance to the given joint distributions, and briefly (at most 3 sentences) describe what you observe.\n",
    "\n",
    "For example, when weighted by race and age, you'll find:\n",
    "\n",
    "Weighted by age and race: Clinton: 0.523, Trump: 0.477"
   ]
  },
  {
   "cell_type": "code",
   "execution_count": 13,
   "metadata": {},
   "outputs": [
    {
     "name": "stdout",
     "output_type": "stream",
     "text": [
      "Weighted by (party, gender) --- Clinton=0.503, Trump=0.497\n",
      "Weighted by (party, age) --- Clinton=0.499, Trump=0.501\n",
      "Weighted by (party, race) --- Clinton=0.502, Trump=0.498\n",
      "Weighted by (party, education) --- Clinton=0.494, Trump=0.506\n",
      "Weighted by (gender, age) --- Clinton=0.533, Trump=0.467\n",
      "Weighted by (gender, race) --- Clinton=0.534, Trump=0.466\n",
      "Weighted by (gender, education) --- Clinton=0.548, Trump=0.452\n",
      "Weighted by (age, race) --- Clinton=0.524, Trump=0.476\n",
      "Weighted by (age, education) --- Clinton=0.526, Trump=0.474\n",
      "Weighted by (race, education) --- Clinton=0.515, Trump=0.485\n"
     ]
    }
   ],
   "source": [
    "def weighted_poll_by_joint(df, dfdemographic, demo1, demo2):\n",
    "    \"\"\"\n",
    "    Weighted calculation based on two demographic characteristics (demo1, demo2).\n",
    "    \"\"\"\n",
    "    # === Step 1: Extract Population Proportion ===\n",
    "    pop_joint = dfdemographic[\n",
    "        (dfdemographic[\"Demographic_Type_1\"] == demo1) &\n",
    "        (dfdemographic[\"Demographic_Type_2\"] == demo2)\n",
    "    ][[\"Demographic_1\", \"Demographic_2\", \"Electoral_Proportion\"]]\n",
    "    \n",
    "    if pop_joint.empty:\n",
    "        raise ValueError(f\"⚠️ The joint distribution of ({demo1}, {demo2}) was not found in the population data. Consider using marginal approximations.\")\n",
    "    \n",
    "    pop_dict = {(row[\"Demographic_1\"], row[\"Demographic_2\"]): row[\"Electoral_Proportion\"]\n",
    "                for _, row in pop_joint.iterrows()}\n",
    "    \n",
    "    # === Step 2: Sample proportion ===\n",
    "    sample_counts = df.groupby([demo1, demo2]).size()\n",
    "    sample_props = (sample_counts / sample_counts.sum()).to_dict()\n",
    "    \n",
    "    # === Step 3: Calculating weights ===\n",
    "    weights = {}\n",
    "    for k, pop_val in pop_dict.items():\n",
    "        if k in sample_props and sample_props[k] > 0:\n",
    "            weights[k] = pop_val / sample_props[k]\n",
    "        else:\n",
    "            # This combination does not appear in the sample, skip\n",
    "            continue\n",
    "    \n",
    "    if not weights:\n",
    "        raise ValueError(f\"⚠️ No available sample population combination ({demo1}, {demo2}) was found. Please check the data.\")\n",
    "    \n",
    "    # === Step 4: Assign weight ===\n",
    "    df = df.copy()\n",
    "    df[\"joint_key\"] = list(zip(df[demo1], df[demo2]))\n",
    "    df[\"weight\"] = df[\"joint_key\"].map(weights)\n",
    "    \n",
    "    # Remove rows where weight is NaN (i.e. combinations that exist in the population but not in the sample)\n",
    "    df = df.dropna(subset=[\"weight\"])\n",
    "    \n",
    "    # === Step 5: Calculating weighted support ===\n",
    "    df[\"is_clinton\"] = (df[\"candidate\"] == \"Hillary Clinton\").astype(int)\n",
    "    p_clinton = (df[\"is_clinton\"] * df[\"weight\"]).sum() / df[\"weight\"].sum()\n",
    "    p_trump = 1 - p_clinton\n",
    "    \n",
    "    return p_clinton, p_trump\n",
    "    \n",
    "# Get all (demo1, demo2) combinations that exist in the overall data\n",
    "pairs = dfdemographic[~dfdemographic[\"Demographic_Type_2\"].isna()][\n",
    "    [\"Demographic_Type_1\", \"Demographic_Type_2\"]\n",
    "].drop_duplicates()\n",
    "\n",
    "# Run weighted calculations for each combination\n",
    "results = []\n",
    "for _, row in pairs.iterrows():\n",
    "    demo1, demo2 = row[\"Demographic_Type_1\"], row[\"Demographic_Type_2\"]\n",
    "    try:\n",
    "        p_clinton, p_trump = weighted_poll_by_joint(df.copy(), dfdemographic, demo1, demo2)\n",
    "        results.append((demo1, demo2, p_clinton, p_trump))\n",
    "    except ValueError as e:\n",
    "        results.append((demo1, demo2, None, None))\n",
    "        print(f\"⚠️ Pass ({demo1}, {demo2}): {e}\")\n",
    "\n",
    "# Print results\n",
    "for demo1, demo2, pc, pt in results:\n",
    "    if pc is not None:\n",
    "        print(f\"Weighted by ({demo1}, {demo2}) --- Clinton={pc:.3f}, Trump={pt:.3f}\")\n",
    "    else:\n",
    "        print(f\"Weighted by ({demo1}, {demo2}) --- Unable to calculate (population data missing or insufficient sample)\")"
   ]
  },
  {
   "attachments": {},
   "cell_type": "markdown",
   "metadata": {},
   "source": [
    "### 3) 2-dimensional marginal "
   ]
  },
  {
   "attachments": {},
   "cell_type": "markdown",
   "metadata": {
    "ExecuteTime": {
     "end_time": "2021-09-01T18:25:18.040978Z",
     "start_time": "2021-09-01T18:25:18.016981Z"
    }
   },
   "source": [
    "<font color='green'>We don't always have access to joint distributions across the population -- for example, it may be hard to estimate from past exit polls (surveys done as people are leaving the polling station) what the joint distribution of education and gender is, for example. However, access to marginal distributions are often available. \n",
    "\n",
    "As discussed in class, one strategy when you don't have access to joint distributions -- only marginals -- is to _multiply_ the marginal distributions. For example, if 50% of your population is Democratic and 50% is a woman, then pretend that 50% times 50% = 25% of your population is a Democratic women. Clearly this technique is not perfect, but it is sometimes a useful heuristic. (Hint: you can use the marginal distribution provided in dfdemographic)\n",
    "\n",
    "For the following pairs of Demographic types, report the weighting results if you use the joint distributions in dfdemographic versus if you approximate the joint distribution using the marginals. Briefly (at most 3 sentences) describe what you observe.\n",
    "\n",
    "(party, gender)\n",
    "\n",
    "(race, gender)"
   ]
  },
  {
   "attachments": {},
   "cell_type": "markdown",
   "metadata": {},
   "source": [
    "As an example output, here's the results for two other pairs of demographics (your results might be different due to rounding, but we do not expect the difference to be large):\n",
    "\n",
    "| Demo1   | Demo2     |    Joint |   Marginal |\n",
    "|:--------|:----------|---------:|-----------:|\n",
    "| age     | race      | 0.523431 |   0.525669 | \n",
    "| age     | education | 0.525068 |   0.523938 |  "
   ]
  },
  {
   "cell_type": "code",
   "execution_count": 16,
   "metadata": {},
   "outputs": [
    {
     "name": "stdout",
     "output_type": "stream",
     "text": [
      "(party, gender) - Joint: Clinton=0.503, Trump=0.497\n",
      "(party, gender) - Marginal: Clinton=0.504, Trump=0.496\n",
      "(race, gender) - Joint: Clinton=nan, Trump=nan\n",
      "(race, gender) - Marginal: Clinton=0.535, Trump=0.465\n"
     ]
    }
   ],
   "source": [
    "def weighted_poll_by_marginal_approx(df, dfdemographic, demo1, demo2):\n",
    "    \"\"\"\n",
    "    Compare true joint distribution vs marginal approximation\n",
    "    for two demographic variables (demo1, demo2).\n",
    "\n",
    "    Returns:\n",
    "        joint_clinton, joint_trump, marginal_clinton, marginal_trump\n",
    "    \"\"\"\n",
    "    # === Part 1: True joint distribution (if available) ===\n",
    "    try:\n",
    "        joint_clinton, joint_trump = weighted_poll_by_joint(df.copy(), dfdemographic, demo1, demo2)\n",
    "    except ValueError:\n",
    "        joint_clinton, joint_trump = np.nan, np.nan\n",
    "\n",
    "    # === Part 2: Marginal approximation ===\n",
    "    # Population proportions for demo1\n",
    "    pop1 = dfdemographic[\n",
    "        (dfdemographic[\"Demographic_Type_1\"] == demo1) &\n",
    "        (dfdemographic[\"Demographic_Type_2\"].isna())\n",
    "    ][[\"Demographic_1\", \"Electoral_Proportion\"]].set_index(\"Demographic_1\")[\"Electoral_Proportion\"].to_dict()\n",
    "\n",
    "    # Population proportions for demo2\n",
    "    pop2 = dfdemographic[\n",
    "        (dfdemographic[\"Demographic_Type_1\"] == demo2) &\n",
    "        (dfdemographic[\"Demographic_Type_2\"].isna())\n",
    "    ][[\"Demographic_1\", \"Electoral_Proportion\"]].set_index(\"Demographic_1\")[\"Electoral_Proportion\"].to_dict()\n",
    "\n",
    "    # Normalize keys to avoid (A,B) vs (B,A) mismatch\n",
    "    def normalize_key(k):\n",
    "        return tuple(sorted(k))\n",
    "\n",
    "    # Construct marginal approximation by independence assumption\n",
    "    pop_marginal = {normalize_key((k1, k2)): v1 * v2 \n",
    "                    for k1, v1 in pop1.items() \n",
    "                    for k2, v2 in pop2.items()}\n",
    "\n",
    "    # Sample proportions\n",
    "    sample_counts = df.groupby([demo1, demo2]).size()\n",
    "    sample_props = (sample_counts / sample_counts.sum()).to_dict()\n",
    "    sample_props = {normalize_key(k): v for k, v in sample_props.items()}\n",
    "\n",
    "    # Compute weights\n",
    "    weights = {k: pop_marginal[k] / v for k, v in sample_props.items()\n",
    "               if v > 0 and k in pop_marginal}\n",
    "\n",
    "    # Assign weights to respondents\n",
    "    df = df.copy()\n",
    "    df[\"joint_key\"] = list(zip(df[demo1], df[demo2]))\n",
    "    df[\"joint_key\"] = df[\"joint_key\"].map(normalize_key)\n",
    "    df[\"weight\"] = df[\"joint_key\"].map(weights)\n",
    "    df = df.dropna(subset=[\"weight\"])\n",
    "\n",
    "    # Compute weighted Clinton support\n",
    "    df[\"is_clinton\"] = (df[\"candidate\"] == \"Hillary Clinton\").astype(int)\n",
    "    marginal_clinton = (df[\"is_clinton\"] * df[\"weight\"]).sum() / df[\"weight\"].sum()\n",
    "    marginal_trump = 1 - marginal_clinton\n",
    "\n",
    "    return joint_clinton, joint_trump, marginal_clinton, marginal_trump\n",
    "\n",
    "\n",
    "pairs = [(\"party\", \"gender\"), (\"race\", \"gender\")]\n",
    "\n",
    "for demo1, demo2 in pairs:\n",
    "    jc, jt, mc, mt = weighted_poll_by_marginal_approx(df.copy(), dfdemographic, demo1, demo2)\n",
    "    print(f\"({demo1}, {demo2}) - Joint: Clinton={jc:.3f}, Trump={jt:.3f}\")\n",
    "    print(f\"({demo1}, {demo2}) - Marginal: Clinton={mc:.3f}, Trump={mt:.3f}\")"
   ]
  },
  {
   "cell_type": "markdown",
   "metadata": {},
   "source": [
    "For (party, gender), the results from the joint distribution and the marginal approximation are almost identical, suggesting that assuming independence works well in this case. For (race, gender), the joint distribution is unavailable, and the marginal approximation slightly increases Clinton’s share relative to Trump. This indicates that while marginal approximations can be reasonable substitutes, they may introduce bias when true joint distributions are missing."
   ]
  },
  {
   "attachments": {},
   "cell_type": "markdown",
   "metadata": {},
   "source": [
    "### 4) Bonus points (up to 2 points): Implement a \"cheap\" version of the MRP technique mentioned in class.\n",
    "\n",
    "<font color='green'> The above techniques use the mean answer among people who share a demographic as the estimate for that demographic. But that wastes information _across_ demographics. For example, maybe people who only have \"Some College\" are similar enough to people who have \"High School\" as to provide some useful information. \n",
    "\n",
    "First, do the following: use a logistic regression (or your favorite prediction tool) to predict candidate choice, using the demographics. You might want to convert some demographics (like education) to ordered numeric (e.g., 1, 2, 3) as opposed to using discrete categories. \n",
    "\n",
    "Here, you will earn partial bonus points by just reporting the predictions and comparing them to the means of each covariate group in the raw polling data. Give a scatter-plot, where each point is one combination of full demographics (age, gender, party, race/ethnicity, education), the X axis is the raw polling average for that combination, and the Y axis is your regression prediction for that combination.   \n",
    "\n",
    "Then, once you have predictions for each set of covariates, \"post-stratify\" to get a single population estimate by plugging them into the above weighting techniques, where you use the predictions instead of the raw averages in that cell. Report the resulting estimates if you do the 2-dimensional joint weighting (on every pair)."
   ]
  },
  {
   "cell_type": "code",
   "execution_count": null,
   "metadata": {},
   "outputs": [],
   "source": []
  },
  {
   "attachments": {},
   "cell_type": "markdown",
   "metadata": {},
   "source": [
    "### 5) Bonus points (up to 2 points): Implement full \"raking\" using all the demographic covariates, i.e., match all the marginals without assuming independence, as opposed to just one or two marginal distributions.\n",
    "\n",
    "<font color='green'> Hint: at the heart of raking is calculating a weight for each survey respondent, so that the weights, when summed up, matches the population on desired marginals as much as possible. \n",
    "\n",
    "For example, suppose we have a survey with two respondents, A likes chocolate and B hates chocolate. We know that in the population, 80\\% of people like chocolate (the number is made up). So in a representative sample with 2 respondents, we would expect to see 1.6 respondents who like chocolate. Thus, one possible thing to do is we assign A with weight 1.6 and B with weight 0.4, and then use these weights to weigh their answers to the question we care about.\n",
    "\n",
    "Of course, when the number of respondents and the number of demographic dimensions that we want to match get larger, finding the weights itself becomes harder. There are mainly two ways to do this. The first is through an iterative approach known as Iterative Proportional Fitting (IPF). IPF iterates through each demographic variable at a time, and adjusts the weights of all respondents through post stratification. IPF is easier to implement by hand by just following the instructions. The second approach is known as generalized raking, which is done through solving an optimization problem, and proposed by [Deville, J. C., Särndal, C. E., & Sautory, O. (1993)](https://www.tandfonline.com/doi/abs/10.1080/01621459.1993.10476369). This approach attempts to solve one undesirable outcome of IPF that the resulting weights may be unbalanced, which leads to higher variance in the final estimate. [This blog post](https://dev.to/potloc/generalized-raking-for-survey-weighting-2d1d) gives a nice introduction to generalized raking, while providing a code snippet for implementing it in Python (you will have to make suitable changes, of course.)"
   ]
  },
  {
   "cell_type": "code",
   "execution_count": null,
   "metadata": {},
   "outputs": [],
   "source": []
  },
  {
   "attachments": {},
   "cell_type": "markdown",
   "metadata": {},
   "source": [
    "## Part C: Uncertainty analysis, choices, and discussion"
   ]
  },
  {
   "attachments": {},
   "cell_type": "markdown",
   "metadata": {},
   "source": [
    "### 1) Education weighting analysis and \"refused\" answers"
   ]
  },
  {
   "attachments": {},
   "cell_type": "markdown",
   "metadata": {},
   "source": [
    "<font color='green'> i. In Part B, you should notice a discrepancy from what we said in class and the data -- weighting by education does _not_ seem to help much in reducing the polling average from being pro-Clinton.\n",
    "\n",
    "Here, we'll try to dig into the data to see why the methods we tried above might not be perfect, and what data you would want (such as demographic joint distribution) to do better. \n",
    "\n",
    "First, aggregate (using the groupby function) the poll results by education. Second, aggregate by education and some of the other covariates (for example, education and race, or education and party). Discuss in 4 sentences or less."
   ]
  },
  {
   "cell_type": "code",
   "execution_count": null,
   "metadata": {},
   "outputs": [],
   "source": []
  },
  {
   "attachments": {},
   "cell_type": "markdown",
   "metadata": {},
   "source": [
    "<font color='green'> ii. You'll notice that there are some responses with \"refused,\" and that those people in particular are Trump-leaning. Furthermore, there are likely many people who refused to answer the poll at all, who do not show up in the data. The weighting techniques we used above would ignore these people. How would you adjust your procedures/estimates above to take them into account? Answer in at most 3 sentences."
   ]
  },
  {
   "cell_type": "code",
   "execution_count": null,
   "metadata": {},
   "outputs": [],
   "source": []
  },
  {
   "attachments": {},
   "cell_type": "markdown",
   "metadata": {},
   "source": [
    "<font color='green'> None of the above techniques deal with selection biases/non-response on _un-measured_ covariates. Do you think that may be an important concern in this dataset? Why or why not? Respond in 3 or fewer sentences."
   ]
  },
  {
   "cell_type": "code",
   "execution_count": null,
   "metadata": {},
   "outputs": [],
   "source": []
  },
  {
   "attachments": {},
   "cell_type": "markdown",
   "metadata": {},
   "source": [
    "### 2) Final estimates"
   ]
  },
  {
   "attachments": {},
   "cell_type": "markdown",
   "metadata": {},
   "source": [
    "<font color='green'> Throughout this homework, you made many estimates of the same quantity -- the fraction of people who will vote for Clinton in Florida. Below, plot a histogram of all your estimates."
   ]
  },
  {
   "cell_type": "code",
   "execution_count": null,
   "metadata": {},
   "outputs": [],
   "source": []
  },
  {
   "attachments": {},
   "cell_type": "markdown",
   "metadata": {},
   "source": [
    "<font color='green'> Given all your above analysis, if you were a pollster what would you report as your single estimate? "
   ]
  },
  {
   "cell_type": "code",
   "execution_count": null,
   "metadata": {},
   "outputs": [],
   "source": []
  },
  {
   "attachments": {},
   "cell_type": "markdown",
   "metadata": {},
   "source": [
    "<font color='green'> Justify your choice, in at most 3 sentences"
   ]
  },
  {
   "cell_type": "code",
   "execution_count": null,
   "metadata": {},
   "outputs": [],
   "source": []
  },
  {
   "attachments": {},
   "cell_type": "markdown",
   "metadata": {},
   "source": [
    "<font color='green'> Though we did not discuss how to calculate margin of error or standard errors with weighting in this course, what would you say if someone asked you how confident you are in your estimate? You may either qualitatively answer, or try to come up with a margin of error.  "
   ]
  },
  {
   "cell_type": "code",
   "execution_count": null,
   "metadata": {},
   "outputs": [],
   "source": []
  },
  {
   "cell_type": "code",
   "execution_count": null,
   "metadata": {},
   "outputs": [],
   "source": []
  },
  {
   "cell_type": "code",
   "execution_count": null,
   "metadata": {},
   "outputs": [],
   "source": []
  },
  {
   "cell_type": "code",
   "execution_count": null,
   "metadata": {},
   "outputs": [],
   "source": []
  },
  {
   "cell_type": "code",
   "execution_count": null,
   "metadata": {},
   "outputs": [],
   "source": []
  }
 ],
 "metadata": {
  "kernelspec": {
   "display_name": "Python 3 (ipykernel)",
   "language": "python",
   "name": "python3"
  },
  "language_info": {
   "codemirror_mode": {
    "name": "ipython",
    "version": 3
   },
   "file_extension": ".py",
   "mimetype": "text/x-python",
   "name": "python",
   "nbconvert_exporter": "python",
   "pygments_lexer": "ipython3",
   "version": "3.10.11"
  },
  "varInspector": {
   "cols": {
    "lenName": 16,
    "lenType": 16,
    "lenVar": 40
   },
   "kernels_config": {
    "python": {
     "delete_cmd_postfix": "",
     "delete_cmd_prefix": "del ",
     "library": "var_list.py",
     "varRefreshCmd": "print(var_dic_list())"
    },
    "r": {
     "delete_cmd_postfix": ") ",
     "delete_cmd_prefix": "rm(",
     "library": "var_list.r",
     "varRefreshCmd": "cat(var_dic_list()) "
    }
   },
   "types_to_exclude": [
    "module",
    "function",
    "builtin_function_or_method",
    "instance",
    "_Feature"
   ],
   "window_display": false
  }
 },
 "nbformat": 4,
 "nbformat_minor": 4
}
